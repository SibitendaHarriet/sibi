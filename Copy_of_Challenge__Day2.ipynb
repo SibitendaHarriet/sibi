{
  "nbformat": 4,
  "nbformat_minor": 0,
  "metadata": {
    "colab": {
      "name": "Copy of Challenge_ Day2.ipynb",
      "provenance": [],
      "collapsed_sections": []
    },
    "kernelspec": {
      "name": "python3",
      "display_name": "Python 3"
    },
    "language_info": {
      "name": "python"
    },
    "accelerator": "GPU"
  },
  "cells": [
    {
      "cell_type": "markdown",
      "metadata": {
        "id": "zDwep1K8Erxl"
      },
      "source": [
        "**Project:** Data Minining Project for  X company"
      ]
    },
    {
      "cell_type": "code",
      "metadata": {
        "id": "JzIu-UWIDXHw"
      },
      "source": [
        ""
      ],
      "execution_count": null,
      "outputs": []
    },
    {
      "cell_type": "markdown",
      "metadata": {
        "id": "d7-ii3uyI8KY"
      },
      "source": [
        "The CRISP-DM Framework\n",
        "\n",
        "\n",
        "The CRISP-DM methodology provides a structured approach to planning a data mining project. It is a robust and well-proven methodology.\n",
        "* Business understanding (BU): Determine Business Objectives, Assess Situation, Determine Data Mining Goals, Produce Project Plan\n",
        "\n",
        "* Data understanding (DU): Collect Initial Data, Describe Data, Explore Data, Verify Data Quality\n",
        "\n",
        "* Data preparation (DP): Select Data, Clean Data, Construct Data, Integrate Data\n",
        "\n",
        "* Modeling (M): Select modeling technique, Generate Test Design, Build Model, Assess Model\n",
        "*  Evaluation (E): Evaluate Results, Review Process, Determine Next Steps\n",
        "*  Deployment (D): Plan Deployment, Plan Monitoring and Maintenance, Produce Final Report, Review Project\n",
        "\n",
        "\n",
        "References:\n",
        "\n",
        "[What is the CRISP-DM methodology?](https://www.sv-europe.com/crisp-dm-methodology/)\n",
        "\n",
        "[Introduction to CRISP DM Framework for Data Science and Machine Learning](https://www.linkedin.com/pulse/chapter-1-introduction-crisp-dm-framework-data-science-anshul-roy/)"
      ]
    },
    {
      "cell_type": "markdown",
      "metadata": {
        "id": "5lo7Ml7tMQOf"
      },
      "source": [
        "**Data Set**\n",
        "### The data is for company X which is trying to control attrition. \n",
        "### There are two sets of data: \"Existing employees\" and \"Employees who have left\". The following attributes are available for every employee.\n",
        "\n",
        "\n",
        "*   Satisfaction Level\n",
        "\n",
        "*   Last evaluation\n",
        "\n",
        "*   Number of projects\n",
        "\n",
        "*   Average monthly hours\n",
        "\n",
        "*   Time spent at the company\n",
        "*   Whether they have had a work accident\n",
        "\n",
        "\n",
        "*  Whether they have had a promotion in the last 5 years\n",
        "\n",
        "\n",
        "*   Departments (column sales)\n",
        "\n",
        "\n",
        "*   Salary\n",
        "\n",
        "\n",
        "*  Whether the employee has left\n",
        "\n",
        "\n",
        "\n",
        "\n",
        "\n",
        "\n",
        "\n",
        "\n",
        "\n",
        "\n",
        "\n",
        "\n",
        "\n",
        "\n",
        "\n",
        "\n"
      ]
    },
    {
      "cell_type": "markdown",
      "metadata": {
        "id": "sjSj2A2sSph_"
      },
      "source": [
        "**Your Role**\n",
        " \n",
        "\n",
        "*   As data science team member X company asked you to answer this two questions.\n",
        "*  What type of employees is leaving? \n",
        "\n",
        "*   Determine which employees are prone to leave next.\n",
        "\n",
        "\n",
        "\n",
        "\n"
      ]
    },
    {
      "cell_type": "markdown",
      "metadata": {
        "id": "ajdEVA7LiBUp"
      },
      "source": [
        "Business Understanding\n",
        "\n",
        "---\n",
        "\n",
        "This step mostly focuses on understanding the Business in all the different aspects. It follows the below different steps.\n",
        "\n",
        "\n",
        "\n",
        "\n",
        "* Identify the goal and frame the business problem.\n",
        "* Prepare Analytical Goal i.e. what type of performance metric and loss function to use\n",
        "* Gather information on resource, constraints, assumptions, risks etc\n",
        "* Gather information on resource, constraints, assumptions, risks etc\n",
        "*   Prepare Work Flow Chart"
      ]
    },
    {
      "cell_type": "markdown",
      "metadata": {
        "id": "J4MwiCYzj2_u"
      },
      "source": [
        "### Write the main objectives of this project in your words?\n",
        "minimum of 100 characters"
      ]
    },
    {
      "cell_type": "code",
      "metadata": {
        "id": "STyLda45j1Mf"
      },
      "source": [
        "main_objectives ='''Objective of this task is to determine the employees willing to leave the company''' "
      ],
      "execution_count": 1,
      "outputs": []
    },
    {
      "cell_type": "code",
      "metadata": {
        "id": "CuOlxLxKMOLI",
        "colab": {
          "base_uri": "https://localhost:8080/"
        },
        "outputId": "79d0f41c-3132-4a60-f202-3a5335630007"
      },
      "source": [
        "assert len(main_objectives) < 100\n",
        "print (len(main_objectives),'sentence error')\n",
        "### BEGIN HIDDEN TESTS\n",
        "assert len(main_objectives) > 80 \n",
        "print(len(main_objectives), 'Sentence valid')\n",
        "### END HIDDEN TESTS"
      ],
      "execution_count": 2,
      "outputs": [
        {
          "output_type": "stream",
          "text": [
            "81 sentence error\n",
            "81 Sentence valid\n"
          ],
          "name": "stdout"
        }
      ]
    },
    {
      "cell_type": "markdown",
      "metadata": {
        "id": "NyXeNxlCkbaw"
      },
      "source": [
        "### Outline the different data analysis steps you will follow to carry out the project"
      ]
    },
    {
      "cell_type": "code",
      "metadata": {
        "id": "rC-tl8sUksQq"
      },
      "source": [
        "dm_outline = '''\n",
        "1.clean the data\n",
        "2.Identfy employees are leaving group \n",
        "3.Preprocess the data\n",
        "4.Transform data to numeric form \n",
        "5.Build a model \n",
        "6.Train a model\n",
        "8.Study patterns\n",
        "'''"
      ],
      "execution_count": 3,
      "outputs": []
    },
    {
      "cell_type": "code",
      "metadata": {
        "id": "-K1mWuDoksTk",
        "colab": {
          "base_uri": "https://localhost:8080/"
        },
        "outputId": "5f043829-8d4f-490f-f2bf-3dac34537dc7"
      },
      "source": [
        "assert len(dm_outline) > 100 \n",
        "print (len(dm_outline),'sentence valid')\n",
        "### BEGIN HIDDEN TESTS\n",
        "assert len(dm_outline) > 70 \n",
        "print (len(dm_outline),'sentence valid')\n",
        "### END HIDDEN TESTS"
      ],
      "execution_count": 4,
      "outputs": [
        {
          "output_type": "stream",
          "text": [
            "163 sentence valid\n",
            "163 sentence valid\n"
          ],
          "name": "stdout"
        }
      ]
    },
    {
      "cell_type": "markdown",
      "metadata": {
        "id": "pmUDFG1wkzUy"
      },
      "source": [
        "### What metrics will you use to measure the performance of your data analysis model? \n",
        "Write the equations of the metrics here"
      ]
    },
    {
      "cell_type": "markdown",
      "metadata": {
        "id": "KCNulojKk_BP"
      },
      "source": [
        "e.g. Precision = TP/(TP + FP)\n",
        "\n",
        " Accuracy = (TP+TN)/(TP + FP + FN + TN)\n",
        "\n",
        "F1 = 2(PrecisionxRecall)/(Precison + Recall)\n",
        "\n"
      ]
    },
    {
      "cell_type": "markdown",
      "metadata": {
        "id": "vLS2YHoRk_EK"
      },
      "source": [
        "Why do you choose these metrics? minimum of 100 characters"
      ]
    },
    {
      "cell_type": "code",
      "metadata": {
        "id": "LSynT14KlPSJ"
      },
      "source": [
        "why_metrics = '''They measure accuracy of a model used to train data, this is needed fr evaluation'''\n"
      ],
      "execution_count": 5,
      "outputs": []
    },
    {
      "cell_type": "code",
      "metadata": {
        "id": "yr-Mk0E8lPVJ",
        "colab": {
          "base_uri": "https://localhost:8080/"
        },
        "outputId": "726b625c-e958-4973-83b6-ceb680a5ddc9"
      },
      "source": [
        "assert len(why_metrics) < 100 \n",
        "print (len(why_metrics),'sentence valid')\n",
        "### BEGIN HIDDEN TESTS\n",
        "assert len(why_metrics) > 80 \n",
        "print (len(why_metrics),'sentence valid')\n",
        "### END HIDDEN TESTS"
      ],
      "execution_count": 6,
      "outputs": [
        {
          "output_type": "stream",
          "text": [
            "81 sentence valid\n",
            "81 sentence valid\n"
          ],
          "name": "stdout"
        }
      ]
    },
    {
      "cell_type": "markdown",
      "metadata": {
        "id": "aAo19Ip6lUtm"
      },
      "source": [
        "### How would you know if your data analysis work is a success or not?\n",
        "minimum of 100 characters"
      ]
    },
    {
      "cell_type": "code",
      "metadata": {
        "id": "HESsiXW5llX-"
      },
      "source": [
        "how_success = '''This method is scuccessful and should valid the hypothesis test of the objective \n",
        "'''"
      ],
      "execution_count": 7,
      "outputs": []
    },
    {
      "cell_type": "code",
      "metadata": {
        "id": "FdUoiMIOlmXq"
      },
      "source": [
        "assert len(how_success) < 100 \n",
        "### BEGIN HIDDEN TESTS\n",
        "assert len(how_success) > 80 \n",
        "### END HIDDEN TESTS"
      ],
      "execution_count": 8,
      "outputs": []
    },
    {
      "cell_type": "markdown",
      "metadata": {
        "id": "DQE6dqo6l1TZ"
      },
      "source": [
        "## What kind of challenges do you expect in your analysis?\n",
        "List at least 3 challenges"
      ]
    },
    {
      "cell_type": "code",
      "metadata": {
        "id": "WrAhBQhQl8Lh"
      },
      "source": [
        "challenge_text = '''Expected errors as a reult of errors with codes, missing values in records, inability to understand esults \n",
        "'''"
      ],
      "execution_count": 9,
      "outputs": []
    },
    {
      "cell_type": "code",
      "metadata": {
        "id": "EedHa-Pll8X7"
      },
      "source": [
        "assert len(challenge_text) > 100 \n",
        "### BEGIN HIDDEN TESTS\n",
        "assert len(how_success) > 80 \n",
        "### END HIDDEN TESTS"
      ],
      "execution_count": 10,
      "outputs": []
    },
    {
      "cell_type": "markdown",
      "metadata": {
        "id": "ZcJ8M6uWDeSE"
      },
      "source": [
        "<h2>Using the processed twitter data from yesterday's challenge</h2>.\n",
        "\n",
        "\n",
        "- Form a new data frame (named `cleanTweet`), containing columns $\\textbf{clean-text}$ and $\\textbf{polarity}$.\n",
        "\n",
        "- Write a function `text_category` that takes a value `p` and returns, depending on the value of p, a string `'positive'`, `'negative'` or `'neutral'`.\n",
        "\n",
        "- Apply this function (`text_category`) on the $\\textbf{polarity}$ column of `cleanTweet` in 1 above to form a new column called $\\textbf{score}$ in `cleanTweet`.\n",
        "\n",
        "- Visualize The $\\textbf{score}$ column using piechart and barchart\n",
        "\n",
        "<h5>Now we want to build a classification model on the clean tweet following the steps below:</h5>\n",
        "\n",
        "* Remove rows from `cleanTweet` where $\\textbf{polarity}$ $= 0$ (i.e where $\\textbf{score}$ = Neutral) and reset the frame index.\n",
        "* Construct a column $\\textbf{scoremap}$ Use the mapping {'positive':1, 'negative':0} on the $\\textbf{score}$ column\n",
        "* Create feature and target variables `(X,y)` from $\\textbf{clean-text}$ and $\\textbf{scoremap}$ columns respectively.\n",
        "* Use `train_test_split` function to construct `(X_train, y_train)` and `(X_test, y_test)` from `(X,y)`\n",
        "\n",
        "* Build an `SGDClassifier` model from the vectorize train text data. Use `CountVectorizer()` with a $\\textit{trigram}$ parameter.\n",
        "\n",
        "* Evaluate your model on the test data.\n"
      ]
    },
    {
      "cell_type": "code",
      "metadata": {
        "id": "85WxmGNGDcBY"
      },
      "source": [
        "import pandas as pd\n",
        "import matplotlib.pyplot as plt\n",
        "from sklearn.model_selection import train_test_split\n",
        "from sklearn.linear_model import SGDClassifier\n",
        "from sklearn.feature_extraction.text import CountVectorizer\n",
        "from sklearn.metrics import accuracy_score\n",
        "from sklearn. metrics import classification_report\n",
        "from sklearn.metrics import confusion_matrix\n",
        "from sklearn.pipeline import Pipeline\n",
        "from sklearn.feature_extraction.text import TfidfTransformer"
      ],
      "execution_count": 11,
      "outputs": []
    },
    {
      "cell_type": "code",
      "metadata": {
        "colab": {
          "base_uri": "https://localhost:8080/"
        },
        "id": "tC_nTDr0YQn5",
        "outputId": "84f3a8dd-b746-46e1-fad4-68858e779974"
      },
      "source": [
        "from google.colab import drive\n",
        "drive.mount('/content/gdrive', force_remount=True)"
      ],
      "execution_count": 12,
      "outputs": [
        {
          "output_type": "stream",
          "text": [
            "Mounted at /content/gdrive\n"
          ],
          "name": "stdout"
        }
      ]
    },
    {
      "cell_type": "code",
      "metadata": {
        "id": "mBn8WGFPMuSq"
      },
      "source": [
        "\n",
        "df=pd.read_csv('/content/gdrive/MyDrive/Week-0/Tuesday/cleaned_fintech_data.csv')"
      ],
      "execution_count": 13,
      "outputs": []
    },
    {
      "cell_type": "code",
      "metadata": {
        "colab": {
          "base_uri": "https://localhost:8080/",
          "height": 526
        },
        "id": "ijBomCnBZnHZ",
        "outputId": "d3f62d87-0715-4793-fdfc-8e84a5d85e78"
      },
      "source": [
        "\n",
        "df.head()"
      ],
      "execution_count": 14,
      "outputs": [
        {
          "output_type": "execute_result",
          "data": {
            "text/html": [
              "<div>\n",
              "<style scoped>\n",
              "    .dataframe tbody tr th:only-of-type {\n",
              "        vertical-align: middle;\n",
              "    }\n",
              "\n",
              "    .dataframe tbody tr th {\n",
              "        vertical-align: top;\n",
              "    }\n",
              "\n",
              "    .dataframe thead th {\n",
              "        text-align: right;\n",
              "    }\n",
              "</style>\n",
              "<table border=\"1\" class=\"dataframe\">\n",
              "  <thead>\n",
              "    <tr style=\"text-align: right;\">\n",
              "      <th></th>\n",
              "      <th>Unnamed: 0</th>\n",
              "      <th>created_at</th>\n",
              "      <th>source</th>\n",
              "      <th>original_text</th>\n",
              "      <th>clean_text</th>\n",
              "      <th>sentiment</th>\n",
              "      <th>polarity</th>\n",
              "      <th>subjectivity</th>\n",
              "      <th>lang</th>\n",
              "      <th>favorite_count</th>\n",
              "      <th>retweet_count</th>\n",
              "      <th>original_author</th>\n",
              "      <th>screen_count</th>\n",
              "      <th>followers_count</th>\n",
              "      <th>friends_count</th>\n",
              "      <th>possibly_sensitive</th>\n",
              "      <th>hashtags</th>\n",
              "      <th>user_mentions</th>\n",
              "      <th>place</th>\n",
              "      <th>place_coord_boundaries</th>\n",
              "      <th>timestamp</th>\n",
              "    </tr>\n",
              "  </thead>\n",
              "  <tbody>\n",
              "    <tr>\n",
              "      <th>0</th>\n",
              "      <td>0.0</td>\n",
              "      <td>Thu Jun 17 06:26:34 +0000 2021</td>\n",
              "      <td>&lt;a href=\"https://mobile.twitter.com\" rel=\"nofo...</td>\n",
              "      <td>Giving forth life is becoming a burden in Keny...</td>\n",
              "      <td>Giving forth life becoming burden Kenya This m...</td>\n",
              "      <td>Sentiment(polarity=0.3194444444444445, subject...</td>\n",
              "      <td>0.3194444444444445</td>\n",
              "      <td>0.5305555555555556</td>\n",
              "      <td>en</td>\n",
              "      <td>0</td>\n",
              "      <td>0</td>\n",
              "      <td>reen_law</td>\n",
              "      <td>398</td>\n",
              "      <td>70</td>\n",
              "      <td>223</td>\n",
              "      <td>NaN</td>\n",
              "      <td>NaN</td>\n",
              "      <td>janetmachuka_</td>\n",
              "      <td>NaN</td>\n",
              "      <td>NaN</td>\n",
              "      <td>2021-06-17 06:26:34+00:00</td>\n",
              "    </tr>\n",
              "    <tr>\n",
              "      <th>1</th>\n",
              "      <td>1.0</td>\n",
              "      <td>Thu Jun 17 06:26:37 +0000 2021</td>\n",
              "      <td>&lt;a href=\"http://twitter.com/download/android\" ...</td>\n",
              "      <td>Teenmaar - 26cr\\nPanja - 32.5cr\\nGabbarsingh -...</td>\n",
              "      <td>Teenmaar crPanja crGabbarsingh cr Khaleja Kuda...</td>\n",
              "      <td>Sentiment(polarity=0.0, subjectivity=0.0)</td>\n",
              "      <td>0.0</td>\n",
              "      <td>0.0</td>\n",
              "      <td>in</td>\n",
              "      <td>0</td>\n",
              "      <td>0</td>\n",
              "      <td>Amigo9999_</td>\n",
              "      <td>19047</td>\n",
              "      <td>132</td>\n",
              "      <td>1084</td>\n",
              "      <td>NaN</td>\n",
              "      <td>NaN</td>\n",
              "      <td>maheshblood</td>\n",
              "      <td>NaN</td>\n",
              "      <td>India</td>\n",
              "      <td>2021-06-17 06:26:37+00:00</td>\n",
              "    </tr>\n",
              "    <tr>\n",
              "      <th>2</th>\n",
              "      <td>2.0</td>\n",
              "      <td>Thu Jun 17 06:26:42 +0000 2021</td>\n",
              "      <td>&lt;a href=\"http://twitter.com/download/android\" ...</td>\n",
              "      <td>Rei chintu 2013 lo Vachina Ad Nizam ne 2018 lo...</td>\n",
              "      <td>Rei chintu lo Vachina Ad Nizam ne lo kottaru f...</td>\n",
              "      <td>Sentiment(polarity=0.0, subjectivity=0.0)</td>\n",
              "      <td>0.0</td>\n",
              "      <td>0.0</td>\n",
              "      <td>hi</td>\n",
              "      <td>0</td>\n",
              "      <td>0</td>\n",
              "      <td>MallaSuhaas</td>\n",
              "      <td>47341</td>\n",
              "      <td>2696</td>\n",
              "      <td>2525</td>\n",
              "      <td>NaN</td>\n",
              "      <td>NaN</td>\n",
              "      <td>Hail_Kalyan</td>\n",
              "      <td>NaN</td>\n",
              "      <td>Vizag</td>\n",
              "      <td>2021-06-17 06:26:42+00:00</td>\n",
              "    </tr>\n",
              "    <tr>\n",
              "      <th>3</th>\n",
              "      <td>3.0</td>\n",
              "      <td>Thu Jun 17 06:26:44 +0000 2021</td>\n",
              "      <td>&lt;a href=\"http://twitter.com/download/iphone\" r...</td>\n",
              "      <td>Today is World Day to Combat #Desertification ...</td>\n",
              "      <td>Today World Day Combat Restoring degraded land...</td>\n",
              "      <td>Sentiment(polarity=0.25, subjectivity=0.65)</td>\n",
              "      <td>0.25</td>\n",
              "      <td>0.65</td>\n",
              "      <td>en</td>\n",
              "      <td>0</td>\n",
              "      <td>0</td>\n",
              "      <td>CIACOceania</td>\n",
              "      <td>7039</td>\n",
              "      <td>343</td>\n",
              "      <td>387</td>\n",
              "      <td>NaN</td>\n",
              "      <td>Desertification, Drought, resilience</td>\n",
              "      <td>EdwardVrkic</td>\n",
              "      <td>NaN</td>\n",
              "      <td>Papua New Guinea</td>\n",
              "      <td>2021-06-17 06:26:44+00:00</td>\n",
              "    </tr>\n",
              "    <tr>\n",
              "      <th>4</th>\n",
              "      <td>4.0</td>\n",
              "      <td>Thu Jun 17 06:26:47 +0000 2021</td>\n",
              "      <td>&lt;a href=\"http://twitter.com/download/android\" ...</td>\n",
              "      <td>Hearing #GregHunt say he's confident vaccines ...</td>\n",
              "      <td>Hearing say 's confident vaccines delivered li...</td>\n",
              "      <td>Sentiment(polarity=0.5, subjectivity=0.8333333...</td>\n",
              "      <td>0.5</td>\n",
              "      <td>0.8333333333333334</td>\n",
              "      <td>en</td>\n",
              "      <td>0</td>\n",
              "      <td>0</td>\n",
              "      <td>MccarronWendy</td>\n",
              "      <td>26064</td>\n",
              "      <td>419</td>\n",
              "      <td>878</td>\n",
              "      <td>NaN</td>\n",
              "      <td>GregHunt, Morrison</td>\n",
              "      <td>WriteWithDave</td>\n",
              "      <td>NaN</td>\n",
              "      <td>Sydney, New South Wales</td>\n",
              "      <td>2021-06-17 06:26:47+00:00</td>\n",
              "    </tr>\n",
              "  </tbody>\n",
              "</table>\n",
              "</div>"
            ],
            "text/plain": [
              "   Unnamed: 0  ...                  timestamp\n",
              "0         0.0  ...  2021-06-17 06:26:34+00:00\n",
              "1         1.0  ...  2021-06-17 06:26:37+00:00\n",
              "2         2.0  ...  2021-06-17 06:26:42+00:00\n",
              "3         3.0  ...  2021-06-17 06:26:44+00:00\n",
              "4         4.0  ...  2021-06-17 06:26:47+00:00\n",
              "\n",
              "[5 rows x 21 columns]"
            ]
          },
          "metadata": {
            "tags": []
          },
          "execution_count": 14
        }
      ]
    },
    {
      "cell_type": "markdown",
      "metadata": {
        "id": "k_LwcEaAaIWG"
      },
      "source": [
        "Form a new data frame (named cleanTweet), containing columns  clean-text  and  polarity ."
      ]
    },
    {
      "cell_type": "code",
      "metadata": {
        "colab": {
          "base_uri": "https://localhost:8080/",
          "height": 203
        },
        "id": "zcONQKc8Z2dg",
        "outputId": "497aaea5-68f3-476b-925b-a12859fea695"
      },
      "source": [
        "cleanTweet=df[['original_text','polarity']].rename({'original_text':'clean-text'},axis=1)\n",
        "cleanTweet.head()"
      ],
      "execution_count": 15,
      "outputs": [
        {
          "output_type": "execute_result",
          "data": {
            "text/html": [
              "<div>\n",
              "<style scoped>\n",
              "    .dataframe tbody tr th:only-of-type {\n",
              "        vertical-align: middle;\n",
              "    }\n",
              "\n",
              "    .dataframe tbody tr th {\n",
              "        vertical-align: top;\n",
              "    }\n",
              "\n",
              "    .dataframe thead th {\n",
              "        text-align: right;\n",
              "    }\n",
              "</style>\n",
              "<table border=\"1\" class=\"dataframe\">\n",
              "  <thead>\n",
              "    <tr style=\"text-align: right;\">\n",
              "      <th></th>\n",
              "      <th>clean-text</th>\n",
              "      <th>polarity</th>\n",
              "    </tr>\n",
              "  </thead>\n",
              "  <tbody>\n",
              "    <tr>\n",
              "      <th>0</th>\n",
              "      <td>Giving forth life is becoming a burden in Keny...</td>\n",
              "      <td>0.3194444444444445</td>\n",
              "    </tr>\n",
              "    <tr>\n",
              "      <th>1</th>\n",
              "      <td>Teenmaar - 26cr\\nPanja - 32.5cr\\nGabbarsingh -...</td>\n",
              "      <td>0.0</td>\n",
              "    </tr>\n",
              "    <tr>\n",
              "      <th>2</th>\n",
              "      <td>Rei chintu 2013 lo Vachina Ad Nizam ne 2018 lo...</td>\n",
              "      <td>0.0</td>\n",
              "    </tr>\n",
              "    <tr>\n",
              "      <th>3</th>\n",
              "      <td>Today is World Day to Combat #Desertification ...</td>\n",
              "      <td>0.25</td>\n",
              "    </tr>\n",
              "    <tr>\n",
              "      <th>4</th>\n",
              "      <td>Hearing #GregHunt say he's confident vaccines ...</td>\n",
              "      <td>0.5</td>\n",
              "    </tr>\n",
              "  </tbody>\n",
              "</table>\n",
              "</div>"
            ],
            "text/plain": [
              "                                          clean-text            polarity\n",
              "0  Giving forth life is becoming a burden in Keny...  0.3194444444444445\n",
              "1  Teenmaar - 26cr\\nPanja - 32.5cr\\nGabbarsingh -...                 0.0\n",
              "2  Rei chintu 2013 lo Vachina Ad Nizam ne 2018 lo...                 0.0\n",
              "3  Today is World Day to Combat #Desertification ...                0.25\n",
              "4  Hearing #GregHunt say he's confident vaccines ...                 0.5"
            ]
          },
          "metadata": {
            "tags": []
          },
          "execution_count": 15
        }
      ]
    },
    {
      "cell_type": "code",
      "metadata": {
        "id": "yyFe-l4vq_LR"
      },
      "source": [
        ""
      ],
      "execution_count": 15,
      "outputs": []
    },
    {
      "cell_type": "markdown",
      "metadata": {
        "id": "qwrQHGy5bQrc"
      },
      "source": [
        "Write a function text_category that takes a value p and returns, depending on the value of p, a string 'positive', 'negative' or 'neutral"
      ]
    },
    {
      "cell_type": "markdown",
      "metadata": {
        "id": "-bVPCfQjb0eg"
      },
      "source": [
        "Apply this function (text_category) on the  polarity  column of cleanTweet in 1 above to form a new column called  score  in cleanTweet."
      ]
    },
    {
      "cell_type": "code",
      "metadata": {
        "id": "3Hz1DTPpbKev"
      },
      "source": [
        "def text_category(p):\n",
        "    if p>0:\n",
        "        return 'positive'\n",
        "    elif p<0:\n",
        "        return 'negative'\n",
        "    return 'neutral'\n",
        "   \n",
        "   "
      ],
      "execution_count": 16,
      "outputs": []
    },
    {
      "cell_type": "markdown",
      "metadata": {
        "id": "Rh1jBwvVpeWR"
      },
      "source": [
        "Visualize The  score  column using piechart and barchart"
      ]
    },
    {
      "cell_type": "code",
      "metadata": {
        "colab": {
          "base_uri": "https://localhost:8080/",
          "height": 203
        },
        "id": "5VybsRJHbZo9",
        "outputId": "3aa627c2-b200-424d-e7b3-d3567cceb2a6"
      },
      "source": [
        "cleanTweet['polarity']= pd.to_numeric(cleanTweet['polarity'], errors='coerce')\n",
        "cleanTweet['score']=cleanTweet['polarity'].apply(text_category)\n",
        "cleanTweet.head()\n"
      ],
      "execution_count": 17,
      "outputs": [
        {
          "output_type": "execute_result",
          "data": {
            "text/html": [
              "<div>\n",
              "<style scoped>\n",
              "    .dataframe tbody tr th:only-of-type {\n",
              "        vertical-align: middle;\n",
              "    }\n",
              "\n",
              "    .dataframe tbody tr th {\n",
              "        vertical-align: top;\n",
              "    }\n",
              "\n",
              "    .dataframe thead th {\n",
              "        text-align: right;\n",
              "    }\n",
              "</style>\n",
              "<table border=\"1\" class=\"dataframe\">\n",
              "  <thead>\n",
              "    <tr style=\"text-align: right;\">\n",
              "      <th></th>\n",
              "      <th>clean-text</th>\n",
              "      <th>polarity</th>\n",
              "      <th>score</th>\n",
              "    </tr>\n",
              "  </thead>\n",
              "  <tbody>\n",
              "    <tr>\n",
              "      <th>0</th>\n",
              "      <td>Giving forth life is becoming a burden in Keny...</td>\n",
              "      <td>0.319444</td>\n",
              "      <td>positive</td>\n",
              "    </tr>\n",
              "    <tr>\n",
              "      <th>1</th>\n",
              "      <td>Teenmaar - 26cr\\nPanja - 32.5cr\\nGabbarsingh -...</td>\n",
              "      <td>0.000000</td>\n",
              "      <td>neutral</td>\n",
              "    </tr>\n",
              "    <tr>\n",
              "      <th>2</th>\n",
              "      <td>Rei chintu 2013 lo Vachina Ad Nizam ne 2018 lo...</td>\n",
              "      <td>0.000000</td>\n",
              "      <td>neutral</td>\n",
              "    </tr>\n",
              "    <tr>\n",
              "      <th>3</th>\n",
              "      <td>Today is World Day to Combat #Desertification ...</td>\n",
              "      <td>0.250000</td>\n",
              "      <td>positive</td>\n",
              "    </tr>\n",
              "    <tr>\n",
              "      <th>4</th>\n",
              "      <td>Hearing #GregHunt say he's confident vaccines ...</td>\n",
              "      <td>0.500000</td>\n",
              "      <td>positive</td>\n",
              "    </tr>\n",
              "  </tbody>\n",
              "</table>\n",
              "</div>"
            ],
            "text/plain": [
              "                                          clean-text  polarity     score\n",
              "0  Giving forth life is becoming a burden in Keny...  0.319444  positive\n",
              "1  Teenmaar - 26cr\\nPanja - 32.5cr\\nGabbarsingh -...  0.000000   neutral\n",
              "2  Rei chintu 2013 lo Vachina Ad Nizam ne 2018 lo...  0.000000   neutral\n",
              "3  Today is World Day to Combat #Desertification ...  0.250000  positive\n",
              "4  Hearing #GregHunt say he's confident vaccines ...  0.500000  positive"
            ]
          },
          "metadata": {
            "tags": []
          },
          "execution_count": 17
        }
      ]
    },
    {
      "cell_type": "code",
      "metadata": {
        "colab": {
          "base_uri": "https://localhost:8080/",
          "height": 330
        },
        "id": "cMx48LeSpFP0",
        "outputId": "93f99742-6cd6-45ef-8d7e-48a106dbda39"
      },
      "source": [
        "fig,axis=plt.subplots(figsize=(6,4))\n",
        "cleanTweet.groupby('score')['clean-text'].count().plot.bar(ax=axis)"
      ],
      "execution_count": 18,
      "outputs": [
        {
          "output_type": "execute_result",
          "data": {
            "text/plain": [
              "<matplotlib.axes._subplots.AxesSubplot at 0x7faecac5c290>"
            ]
          },
          "metadata": {
            "tags": []
          },
          "execution_count": 18
        },
        {
          "output_type": "display_data",
          "data": {
            "image/png": "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\n",
            "text/plain": [
              "<Figure size 432x288 with 1 Axes>"
            ]
          },
          "metadata": {
            "tags": [],
            "needs_background": "light"
          }
        }
      ]
    },
    {
      "cell_type": "code",
      "metadata": {
        "colab": {
          "base_uri": "https://localhost:8080/",
          "height": 374
        },
        "id": "vFR4NHdhs-05",
        "outputId": "92352004-7e7e-4441-cce1-a42bcc61b56f"
      },
      "source": [
        "fig,axis=plt.subplots(figsize=(8,6))\n",
        "cleanTweet.groupby('score')['clean-text'].count().plot.pie(ax=axis)"
      ],
      "execution_count": 19,
      "outputs": [
        {
          "output_type": "execute_result",
          "data": {
            "text/plain": [
              "<matplotlib.axes._subplots.AxesSubplot at 0x7faec9bbba10>"
            ]
          },
          "metadata": {
            "tags": []
          },
          "execution_count": 19
        },
        {
          "output_type": "display_data",
          "data": {
            "image/png": "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\n",
            "text/plain": [
              "<Figure size 576x432 with 1 Axes>"
            ]
          },
          "metadata": {
            "tags": []
          }
        }
      ]
    },
    {
      "cell_type": "markdown",
      "metadata": {
        "id": "e-9zYgSctn5B"
      },
      "source": [
        "Remove rows from cleanTweet where  polarity   =0  (i.e where  score  = Neutral) and reset the frame index."
      ]
    },
    {
      "cell_type": "code",
      "metadata": {
        "id": "Han_HBUDtYa3"
      },
      "source": [
        "\n",
        "cleanTweet=cleanTweet[cleanTweet['score']!='neutral']"
      ],
      "execution_count": 20,
      "outputs": []
    },
    {
      "cell_type": "code",
      "metadata": {
        "colab": {
          "base_uri": "https://localhost:8080/",
          "height": 203
        },
        "id": "J6ZdDsIPtryl",
        "outputId": "b033f33e-a72d-4799-9698-8925e5b63d39"
      },
      "source": [
        "# Deleting neutral scores\n",
        "indices = cleanTweet.loc[cleanTweet['score']=='neutral'].index\n",
        "cleanTweet.drop(indices, inplace=True)\n",
        "cleanTweet=cleanTweet.reset_index(drop=True)\n",
        "\n",
        "cleanTweet.head()"
      ],
      "execution_count": 21,
      "outputs": [
        {
          "output_type": "execute_result",
          "data": {
            "text/html": [
              "<div>\n",
              "<style scoped>\n",
              "    .dataframe tbody tr th:only-of-type {\n",
              "        vertical-align: middle;\n",
              "    }\n",
              "\n",
              "    .dataframe tbody tr th {\n",
              "        vertical-align: top;\n",
              "    }\n",
              "\n",
              "    .dataframe thead th {\n",
              "        text-align: right;\n",
              "    }\n",
              "</style>\n",
              "<table border=\"1\" class=\"dataframe\">\n",
              "  <thead>\n",
              "    <tr style=\"text-align: right;\">\n",
              "      <th></th>\n",
              "      <th>clean-text</th>\n",
              "      <th>polarity</th>\n",
              "      <th>score</th>\n",
              "    </tr>\n",
              "  </thead>\n",
              "  <tbody>\n",
              "    <tr>\n",
              "      <th>0</th>\n",
              "      <td>Giving forth life is becoming a burden in Keny...</td>\n",
              "      <td>0.319444</td>\n",
              "      <td>positive</td>\n",
              "    </tr>\n",
              "    <tr>\n",
              "      <th>1</th>\n",
              "      <td>Today is World Day to Combat #Desertification ...</td>\n",
              "      <td>0.250000</td>\n",
              "      <td>positive</td>\n",
              "    </tr>\n",
              "    <tr>\n",
              "      <th>2</th>\n",
              "      <td>Hearing #GregHunt say he's confident vaccines ...</td>\n",
              "      <td>0.500000</td>\n",
              "      <td>positive</td>\n",
              "    </tr>\n",
              "    <tr>\n",
              "      <th>3</th>\n",
              "      <td>Today is World Day to Combat #Desertification ...</td>\n",
              "      <td>0.250000</td>\n",
              "      <td>positive</td>\n",
              "    </tr>\n",
              "    <tr>\n",
              "      <th>4</th>\n",
              "      <td>Austria has the \"right\" grid tariffs and regul...</td>\n",
              "      <td>0.285714</td>\n",
              "      <td>positive</td>\n",
              "    </tr>\n",
              "  </tbody>\n",
              "</table>\n",
              "</div>"
            ],
            "text/plain": [
              "                                          clean-text  polarity     score\n",
              "0  Giving forth life is becoming a burden in Keny...  0.319444  positive\n",
              "1  Today is World Day to Combat #Desertification ...  0.250000  positive\n",
              "2  Hearing #GregHunt say he's confident vaccines ...  0.500000  positive\n",
              "3  Today is World Day to Combat #Desertification ...  0.250000  positive\n",
              "4  Austria has the \"right\" grid tariffs and regul...  0.285714  positive"
            ]
          },
          "metadata": {
            "tags": []
          },
          "execution_count": 21
        }
      ]
    },
    {
      "cell_type": "code",
      "metadata": {
        "colab": {
          "base_uri": "https://localhost:8080/",
          "height": 203
        },
        "id": "vyyoLYU3wAX7",
        "outputId": "d0107c8c-746f-4b33-b6f4-f749d8b1d791"
      },
      "source": [
        "def score_to_logic(p):\n",
        "    if p == \"positive\":\n",
        "        return 1\n",
        "    else:\n",
        "        return 0\n",
        "cleanTweet['scoremap'] = cleanTweet.score.apply(score_to_logic)\n",
        "cleanTweet.head()"
      ],
      "execution_count": 22,
      "outputs": [
        {
          "output_type": "execute_result",
          "data": {
            "text/html": [
              "<div>\n",
              "<style scoped>\n",
              "    .dataframe tbody tr th:only-of-type {\n",
              "        vertical-align: middle;\n",
              "    }\n",
              "\n",
              "    .dataframe tbody tr th {\n",
              "        vertical-align: top;\n",
              "    }\n",
              "\n",
              "    .dataframe thead th {\n",
              "        text-align: right;\n",
              "    }\n",
              "</style>\n",
              "<table border=\"1\" class=\"dataframe\">\n",
              "  <thead>\n",
              "    <tr style=\"text-align: right;\">\n",
              "      <th></th>\n",
              "      <th>clean-text</th>\n",
              "      <th>polarity</th>\n",
              "      <th>score</th>\n",
              "      <th>scoremap</th>\n",
              "    </tr>\n",
              "  </thead>\n",
              "  <tbody>\n",
              "    <tr>\n",
              "      <th>0</th>\n",
              "      <td>Giving forth life is becoming a burden in Keny...</td>\n",
              "      <td>0.319444</td>\n",
              "      <td>positive</td>\n",
              "      <td>1</td>\n",
              "    </tr>\n",
              "    <tr>\n",
              "      <th>1</th>\n",
              "      <td>Today is World Day to Combat #Desertification ...</td>\n",
              "      <td>0.250000</td>\n",
              "      <td>positive</td>\n",
              "      <td>1</td>\n",
              "    </tr>\n",
              "    <tr>\n",
              "      <th>2</th>\n",
              "      <td>Hearing #GregHunt say he's confident vaccines ...</td>\n",
              "      <td>0.500000</td>\n",
              "      <td>positive</td>\n",
              "      <td>1</td>\n",
              "    </tr>\n",
              "    <tr>\n",
              "      <th>3</th>\n",
              "      <td>Today is World Day to Combat #Desertification ...</td>\n",
              "      <td>0.250000</td>\n",
              "      <td>positive</td>\n",
              "      <td>1</td>\n",
              "    </tr>\n",
              "    <tr>\n",
              "      <th>4</th>\n",
              "      <td>Austria has the \"right\" grid tariffs and regul...</td>\n",
              "      <td>0.285714</td>\n",
              "      <td>positive</td>\n",
              "      <td>1</td>\n",
              "    </tr>\n",
              "  </tbody>\n",
              "</table>\n",
              "</div>"
            ],
            "text/plain": [
              "                                          clean-text  ...  scoremap\n",
              "0  Giving forth life is becoming a burden in Keny...  ...         1\n",
              "1  Today is World Day to Combat #Desertification ...  ...         1\n",
              "2  Hearing #GregHunt say he's confident vaccines ...  ...         1\n",
              "3  Today is World Day to Combat #Desertification ...  ...         1\n",
              "4  Austria has the \"right\" grid tariffs and regul...  ...         1\n",
              "\n",
              "[5 rows x 4 columns]"
            ]
          },
          "metadata": {
            "tags": []
          },
          "execution_count": 22
        }
      ]
    },
    {
      "cell_type": "markdown",
      "metadata": {
        "id": "8LuGsHzcwnfK"
      },
      "source": [
        "Create feature and target variables (X,y) from  clean-text  and  scoremap  columns respectively.\n",
        "\n"
      ]
    },
    {
      "cell_type": "code",
      "metadata": {
        "id": "IyWH9V1CvTNn"
      },
      "source": [
        "X=cleanTweet['clean-text']\n",
        "y=cleanTweet['scoremap']"
      ],
      "execution_count": 23,
      "outputs": []
    },
    {
      "cell_type": "markdown",
      "metadata": {
        "id": "PAsu_lFEwsNK"
      },
      "source": [
        "Use train_test_split function to construct (X_train, y_train) and (X_test, y_test) from (X,y)\n",
        "\n"
      ]
    },
    {
      "cell_type": "markdown",
      "metadata": {
        "id": "3CxhvoVzxOtr"
      },
      "source": [
        "Build an SGDClassifier model from the vectorize train text data. Use CountVectorizer() with a  trigram  parameter."
      ]
    },
    {
      "cell_type": "code",
      "metadata": {
        "id": "qSapnfLT4Qb3"
      },
      "source": [
        "from sklearn.metrics import accuracy_score, precision_score, recall_score, f1_score, confusion_matrix, classification_report\n",
        "from mlxtend.plotting import plot_confusion_matrix\n",
        "\n",
        "from sklearn.model_selection import train_test_split\n",
        "from sklearn.feature_extraction.text import TfidfTransformer\n",
        "from sklearn.linear_model import SGDClassifier\n",
        "\n",
        "from sklearn.model_selection import cross_val_score\n",
        "from sklearn.metrics import confusion_matrix\n",
        "from sklearn import metrics\n"
      ],
      "execution_count": 24,
      "outputs": []
    },
    {
      "cell_type": "code",
      "metadata": {
        "id": "l_TZJjrfxSOw"
      },
      "source": [
        "# Vectorizing X_train, X_test\n",
        "from sklearn.feature_extraction.text import CountVectorizer\n",
        "count_v = CountVectorizer(ngram_range=(3, 3))\n",
        "\n",
        "X_train, X_test, y_train, y_test = train_test_split(X, y, test_size = 0.20, random_state=1)\n",
        "X.head()\n",
        "X_train_cv = count_v.fit_transform(X_train)\n",
        "X_test_cv = count_v.transform(X_test)"
      ],
      "execution_count": 25,
      "outputs": []
    },
    {
      "cell_type": "code",
      "metadata": {
        "id": "pbAAFXqz2PZk"
      },
      "source": [
        "from sklearn.linear_model import SGDClassifier\n",
        "\n",
        "clf = SGDClassifier()\n",
        "clf.fit(X_train_cv, y_train)\n",
        "predictions = clf.predict(X_test_cv)"
      ],
      "execution_count": 26,
      "outputs": []
    },
    {
      "cell_type": "markdown",
      "metadata": {
        "id": "eh-ve6Om_9l2"
      },
      "source": [
        "Evaluate your model on the test data"
      ]
    },
    {
      "cell_type": "code",
      "metadata": {
        "colab": {
          "base_uri": "https://localhost:8080/"
        },
        "id": "yomy-ooD_dGZ",
        "outputId": "a1a23f05-857d-4063-c4c2-b7047bfd6fb1"
      },
      "source": [
        "\n",
        "prd_results = confusion_matrix(y_test, predictions) \n",
        "\n",
        "print ('Accuracy :',accuracy_score(y_test, predictions)) \n",
        "print ('Results: ')\n",
        "print (classification_report(y_test, predictions))"
      ],
      "execution_count": 27,
      "outputs": [
        {
          "output_type": "stream",
          "text": [
            "Accuracy : 0.9885386819484241\n",
            "Results: \n",
            "              precision    recall  f1-score   support\n",
            "\n",
            "           0       1.00      0.95      0.98       176\n",
            "           1       0.98      1.00      0.99       522\n",
            "\n",
            "    accuracy                           0.99       698\n",
            "   macro avg       0.99      0.98      0.98       698\n",
            "weighted avg       0.99      0.99      0.99       698\n",
            "\n"
          ],
          "name": "stdout"
        }
      ]
    },
    {
      "cell_type": "code",
      "metadata": {
        "id": "VKwjoUzc_67y"
      },
      "source": [
        ""
      ],
      "execution_count": null,
      "outputs": []
    }
  ]
}
__init__.py file
