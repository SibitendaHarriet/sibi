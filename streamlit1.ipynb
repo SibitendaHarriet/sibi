{
 "cells": [
  {
   "cell_type": "code",
   "execution_count": 9,
   "metadata": {},
   "outputs": [],
   "source": [
    "import numpy as np\n",
    "import pandas as pd\n",
    "import streamlit as st\n",
    "import altair as alt\n",
    "from wordcloud import WordCloud\n",
    "import plotly.express as px\n",
    "#from a_data import db_execute_fetch"
   ]
  },
  {
   "cell_type": "code",
   "execution_count": 3,
   "metadata": {},
   "outputs": [
    {
     "name": "stderr",
     "output_type": "stream",
     "text": [
      "2021-06-30 15:16:33.717 \n",
      "  \u001b[33m\u001b[1mWarning:\u001b[0m to view this Streamlit app on a browser, run it with the following\n",
      "  command:\n",
      "\n",
      "    streamlit run C:\\Users\\DELL\\anaconda3\\lib\\site-packages\\ipykernel_launcher.py [ARGUMENTS]\n"
     ]
    },
    {
     "data": {
      "text/plain": [
       "DeltaGenerator(_root_container=0, _provided_cursor=None, _parent=None, _block_type=None, _form_data=None)"
      ]
     },
     "execution_count": 3,
     "metadata": {},
     "output_type": "execute_result"
    }
   ],
   "source": [
    "st.set_page_config('Dashboard', layout=\"wide\")\n",
    "st.title(\"Topic Modeling and Sentimet Anlysis\")\n",
    "st.markdown(\"***\")"
   ]
  },
  {
   "cell_type": "code",
   "execution_count": 4,
   "metadata": {},
   "outputs": [],
   "source": [
    "class streamlitDashboard:\n",
    "    def __init__(self):\n",
    "        pass\n",
    "\n",
    "    # loads the data fromm the db based on query\n",
    "    def loadData(self, ):\n",
    "        query = \"select * from Tweet\"\n",
    "        df = db_execute_fetch(query, dbName=\"Tweetdb\", rdf=True)\n",
    "        #st.write(df)\n",
    "        return df \n",
    "\n",
    "    def text_category(self, p):\n",
    "        \"\"\"\n",
    "        A function  that takes a value p and returns, depending on the value of p, \n",
    "        a string 'positive', 'negative' or 'neutral'\n",
    "        \"\"\"\n",
    "        if p > 0 : return 'positive'\n",
    "        elif p == 0: return 'neutral'\n",
    "        return 'negative'\n",
    "\n",
    "    # display the db based on the polarity\n",
    "    def display_df_polarity(self):\n",
    "        df = self.loadData()\n",
    "        df['score'] = df['polarity'].apply(self.text_category)\n",
    "        polarity = st.multiselect(\"choose polarity of tweets\", list(df['score'].unique()))\n",
    "        if polarity:\n",
    "            df = df[np.isin(df, polarity).any(axis=1)]\n",
    "            st.write(df)\n",
    "        else:\n",
    "            st.write(df)\n",
    "\n",
    "    \n",
    "\n",
    "    # Count the number of positive, neutral, and negative\n",
    "    def polarity_count(self):\n",
    "        df = self.loadData()\n",
    "        df['score'] = df['polarity'].apply(self.text_category) \n",
    "        sc = list(df['score'])\n",
    "        return { 'positive': sc.count('positive'), 'neutral': sc.count('neutral'),\n",
    "                                'negative': sc.count('negative')  } \n",
    "\n",
    "    # draws bar chart of the polarity\n",
    "    def barChart(self):\n",
    "        st.title('Tweet sentiment bar graph')\n",
    "        count = self.polarity_count()\n",
    "        data = pd.DataFrame({\n",
    "        'Sentiment': list(count.keys()),\n",
    "        'Tweets': [count[key] for key in count.keys()],\n",
    "                    })\n",
    "        bar_fig = px.bar(data, x='Sentiment', y='Tweets')\n",
    "        st.plotly_chart(bar_fig)\n",
    "\n",
    "    # draws pie chart of the polarity\n",
    "    def pieChart(self):\n",
    "        st.title('Tweet sentiment pie chart')\n",
    "        count = self.polarity_count()\n",
    "        pie_fig = px.pie(values=[count[key] for key in count.keys()], names=list(count.keys()))\n",
    "        st.plotly_chart(pie_fig)\n",
    "\n",
    "    # topic modeling\n",
    "    def wordCloud(self):\n",
    "        df = self.loadData()\n",
    "        # Convert to lowercase\n",
    "        df['clean_text'] = df['clean_text'].map(lambda x: x.lower())\n",
    "        # Join the different processed titles together.\n",
    "        long_string = ','.join(list(df['clean_text'].values))\n",
    "\n",
    "        # Create a WordCloud object\n",
    "        wordcloud = WordCloud(background_color=\"white\", width=650, height=450, \\\n",
    "                                min_font_size=5, contour_color='steelblue')\n",
    "        # Generate a word cloud\n",
    "        wordcloud.generate(long_string)\n",
    "        st.title(\"Tweet Text Word Cloud\")\n",
    "        st.image(wordcloud.to_array())\n",
    "\n",
    "    # hashtags\n",
    "    def selectHashTag(self):\n",
    "        df = self.loadData()\n",
    "        hashTags = st.multiselect(\"choose combaniation of hashtags\", list(df['hashtags'].unique()))\n",
    "        if hashTags:\n",
    "            df = df[np.isin(df, hashTags).any(axis=1)]\n",
    "            st.write(df)\n",
    "        else:\n",
    "            st.write(df)\n",
    "\n",
    "    # select location        \n",
    "    def selectLoction(self):\n",
    "        df = self.loadData()\n",
    "        location = st.multiselect(\"choose Location of tweets\", list(df['place'].unique()))\n",
    "        if location:\n",
    "            df = df[np.isin(df, location).any(axis=1)]\n",
    "            st.write(df)\n",
    "        else:\n",
    "            st.write(df)"
   ]
  },
  {
   "cell_type": "code",
   "execution_count": 5,
   "metadata": {},
   "outputs": [
    {
     "ename": "NameError",
     "evalue": "name 'db_execute_fetch' is not defined",
     "output_type": "error",
     "traceback": [
      "\u001b[1;31m---------------------------------------------------------------------------\u001b[0m",
      "\u001b[1;31mNameError\u001b[0m                                 Traceback (most recent call last)",
      "\u001b[1;32m<ipython-input-5-8c25c93759d8>\u001b[0m in \u001b[0;36m<module>\u001b[1;34m\u001b[0m\n\u001b[0;32m      1\u001b[0m \u001b[1;31m# create an object streamlit\u001b[0m\u001b[1;33m\u001b[0m\u001b[1;33m\u001b[0m\u001b[1;33m\u001b[0m\u001b[0m\n\u001b[0;32m      2\u001b[0m \u001b[0mstreamlt\u001b[0m \u001b[1;33m=\u001b[0m \u001b[0mstreamlitDashboard\u001b[0m\u001b[1;33m(\u001b[0m\u001b[1;33m)\u001b[0m\u001b[1;33m\u001b[0m\u001b[1;33m\u001b[0m\u001b[0m\n\u001b[1;32m----> 3\u001b[1;33m \u001b[0mstreamlt\u001b[0m\u001b[1;33m.\u001b[0m\u001b[0mselectLoction\u001b[0m\u001b[1;33m(\u001b[0m\u001b[1;33m)\u001b[0m\u001b[1;33m\u001b[0m\u001b[1;33m\u001b[0m\u001b[0m\n\u001b[0m\u001b[0;32m      4\u001b[0m \u001b[0mst\u001b[0m\u001b[1;33m.\u001b[0m\u001b[0msuccess\u001b[0m\u001b[1;33m(\u001b[0m\u001b[1;34m\"\"\u001b[0m\u001b[1;33m)\u001b[0m\u001b[1;33m\u001b[0m\u001b[1;33m\u001b[0m\u001b[0m\n\u001b[0;32m      5\u001b[0m \u001b[0mstreamlt\u001b[0m\u001b[1;33m.\u001b[0m\u001b[0mselectHashTag\u001b[0m\u001b[1;33m(\u001b[0m\u001b[1;33m)\u001b[0m\u001b[1;33m\u001b[0m\u001b[1;33m\u001b[0m\u001b[0m\n",
      "\u001b[1;32m<ipython-input-4-3afe95785bc3>\u001b[0m in \u001b[0;36mselectLoction\u001b[1;34m(self)\u001b[0m\n\u001b[0;32m     86\u001b[0m     \u001b[1;31m# select location\u001b[0m\u001b[1;33m\u001b[0m\u001b[1;33m\u001b[0m\u001b[1;33m\u001b[0m\u001b[0m\n\u001b[0;32m     87\u001b[0m     \u001b[1;32mdef\u001b[0m \u001b[0mselectLoction\u001b[0m\u001b[1;33m(\u001b[0m\u001b[0mself\u001b[0m\u001b[1;33m)\u001b[0m\u001b[1;33m:\u001b[0m\u001b[1;33m\u001b[0m\u001b[1;33m\u001b[0m\u001b[0m\n\u001b[1;32m---> 88\u001b[1;33m         \u001b[0mdf\u001b[0m \u001b[1;33m=\u001b[0m \u001b[0mself\u001b[0m\u001b[1;33m.\u001b[0m\u001b[0mloadData\u001b[0m\u001b[1;33m(\u001b[0m\u001b[1;33m)\u001b[0m\u001b[1;33m\u001b[0m\u001b[1;33m\u001b[0m\u001b[0m\n\u001b[0m\u001b[0;32m     89\u001b[0m         \u001b[0mlocation\u001b[0m \u001b[1;33m=\u001b[0m \u001b[0mst\u001b[0m\u001b[1;33m.\u001b[0m\u001b[0mmultiselect\u001b[0m\u001b[1;33m(\u001b[0m\u001b[1;34m\"choose Location of tweets\"\u001b[0m\u001b[1;33m,\u001b[0m \u001b[0mlist\u001b[0m\u001b[1;33m(\u001b[0m\u001b[0mdf\u001b[0m\u001b[1;33m[\u001b[0m\u001b[1;34m'place'\u001b[0m\u001b[1;33m]\u001b[0m\u001b[1;33m.\u001b[0m\u001b[0munique\u001b[0m\u001b[1;33m(\u001b[0m\u001b[1;33m)\u001b[0m\u001b[1;33m)\u001b[0m\u001b[1;33m)\u001b[0m\u001b[1;33m\u001b[0m\u001b[1;33m\u001b[0m\u001b[0m\n\u001b[0;32m     90\u001b[0m         \u001b[1;32mif\u001b[0m \u001b[0mlocation\u001b[0m\u001b[1;33m:\u001b[0m\u001b[1;33m\u001b[0m\u001b[1;33m\u001b[0m\u001b[0m\n",
      "\u001b[1;32m<ipython-input-4-3afe95785bc3>\u001b[0m in \u001b[0;36mloadData\u001b[1;34m(self)\u001b[0m\n\u001b[0;32m      6\u001b[0m     \u001b[1;32mdef\u001b[0m \u001b[0mloadData\u001b[0m\u001b[1;33m(\u001b[0m\u001b[0mself\u001b[0m\u001b[1;33m,\u001b[0m \u001b[1;33m)\u001b[0m\u001b[1;33m:\u001b[0m\u001b[1;33m\u001b[0m\u001b[1;33m\u001b[0m\u001b[0m\n\u001b[0;32m      7\u001b[0m         \u001b[0mquery\u001b[0m \u001b[1;33m=\u001b[0m \u001b[1;34m\"select * from Tweet\"\u001b[0m\u001b[1;33m\u001b[0m\u001b[1;33m\u001b[0m\u001b[0m\n\u001b[1;32m----> 8\u001b[1;33m         \u001b[0mdf\u001b[0m \u001b[1;33m=\u001b[0m \u001b[0mdb_execute_fetch\u001b[0m\u001b[1;33m(\u001b[0m\u001b[0mquery\u001b[0m\u001b[1;33m,\u001b[0m \u001b[0mdbName\u001b[0m\u001b[1;33m=\u001b[0m\u001b[1;34m\"Tweetdb\"\u001b[0m\u001b[1;33m,\u001b[0m \u001b[0mrdf\u001b[0m\u001b[1;33m=\u001b[0m\u001b[1;32mTrue\u001b[0m\u001b[1;33m)\u001b[0m\u001b[1;33m\u001b[0m\u001b[1;33m\u001b[0m\u001b[0m\n\u001b[0m\u001b[0;32m      9\u001b[0m         \u001b[1;31m#st.write(df)\u001b[0m\u001b[1;33m\u001b[0m\u001b[1;33m\u001b[0m\u001b[1;33m\u001b[0m\u001b[0m\n\u001b[0;32m     10\u001b[0m         \u001b[1;32mreturn\u001b[0m \u001b[0mdf\u001b[0m\u001b[1;33m\u001b[0m\u001b[1;33m\u001b[0m\u001b[0m\n",
      "\u001b[1;31mNameError\u001b[0m: name 'db_execute_fetch' is not defined"
     ]
    }
   ],
   "source": [
    "# create an object streamlit\n",
    "streamlt = streamlitDashboard()\n",
    "streamlt.selectLoction()\n",
    "st.success(\"\")\n",
    "streamlt.selectHashTag()\n",
    "st.success(\"\")\n",
    "streamlt.display_df_polarity()\n",
    "st.success(\"\")\n",
    "st.title(\"Visualizations\")\n",
    "random_tweet = st.selectbox('Choose type of visualization', ('Topic Modeling','Bar Chart','Pie Chart'))\n",
    "if random_tweet == 'Topic Modeling': \n",
    "    streamlt.wordCloud()\n",
    "elif random_tweet == 'Bar Chart': \n",
    "    streamlt.barChart()\n",
    "elif random_tweet == 'Pie Chart': \n",
    "    streamlt.pieChart()"
   ]
  },
  {
   "cell_type": "code",
   "execution_count": null,
   "metadata": {},
   "outputs": [],
   "source": []
  }
 ],
 "metadata": {
  "kernelspec": {
   "display_name": "Python 3",
   "language": "python",
   "name": "python3"
  },
  "language_info": {
   "codemirror_mode": {
    "name": "ipython",
    "version": 3
   },
   "file_extension": ".py",
   "mimetype": "text/x-python",
   "name": "python",
   "nbconvert_exporter": "python",
   "pygments_lexer": "ipython3",
   "version": "3.8.5"
  }
 },
 "nbformat": 4,
 "nbformat_minor": 4
}
